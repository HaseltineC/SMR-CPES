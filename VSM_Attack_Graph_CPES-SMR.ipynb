{
 "cells": [
  {
   "cell_type": "markdown",
   "id": "e5d10590-47ec-449c-9e23-e7498b4bf0c7",
   "metadata": {},
   "source": [
    " ## CPES SMR Attack graph quantification"
   ]
  },
  {
   "cell_type": "markdown",
   "id": "5775340a-a6a6-495a-bc32-71c3211aec5b",
   "metadata": {},
   "source": [
    "# Define the attack graph structure\n"
   ]
  },
  {
   "cell_type": "code",
   "execution_count": null,
   "id": "098998ad-173f-46ca-9aaa-f72f440e9a6e",
   "metadata": {},
   "outputs": [],
   "source": []
  },
  {
   "cell_type": "markdown",
   "id": "43221218-d503-46a0-9d3d-cfeed6f915e3",
   "metadata": {},
   "source": [
    "# set up terminal attack leaf node weights \n",
    "Each terminal node gets a random value from a Beta distribution"
   ]
  },
  {
   "cell_type": "code",
   "execution_count": 90,
   "id": "7c0f85f1-69a2-46f3-84d3-58b41b093fe7",
   "metadata": {},
   "outputs": [],
   "source": [
    "import networkx as nx\n",
    "import matplotlib.pyplot as plt\n",
    "import numpy as np\n",
    "\n",
    "# Step 1: Define attack graph structure\n",
    "attack_graph = {\n",
    "    \"L4\": [\"L4.1\", \"L4.2\"],\n",
    "    \"L4.1\": [\"L4.1.1\", \"L4.1.2\"],\n",
    "    \"L4.1.1\": [\"L4.1.1.1\", \"L4.1.1.2\"],\n",
    "    \"L4.1.2\": [\"L4.1.2.1\", \"L4.1.2.2\"],\n",
    "    \"L4.2\": [\"L4.2.1\", \"L4.2.2\"],\n",
    "    \"L4.2.1\": [\"L4.2.1.1\", \"L4.2.1.2\"],\n",
    "    \"L4.2.2\": [\"L4.2.2.1\", \"L4.2.2.2\"],\n",
    "    \"L4.2.2.1\": [\"L4.2.2.1.1\", \"L4.2.2.1.2\"],\n",
    "    \"L4.2.2.2\": [\"L4.2.2.2.1\", \"L4.2.2.2.2\"]\n",
    "}\n",
    "\n"
   ]
  },
  {
   "cell_type": "code",
   "execution_count": 91,
   "id": "e6d46678-255b-4280-84d7-aec639fe8e45",
   "metadata": {},
   "outputs": [],
   "source": [
    "# Step 2: Create directed graph\n",
    "G = nx.DiGraph()\n",
    "for parent, children in attack_graph.items():\n",
    "    for child in children:\n",
    "        G.add_edge(child, parent)  # bottom-up (leaf → root)\n",
    "\n",
    "# Step 3: Identify terminal (leaf) nodes\n",
    "terminal_nodes = [n for n in G.nodes() if G.out_degree(n) == 0]\n",
    "\n",
    "# Step 4: Define beta distribution parameters\n",
    "beta_params = {node: (3, 5) for node in terminal_nodes}\n",
    "use_beta = True  # Toggle to switch distributions\n",
    "\n"
   ]
  },
  {
   "cell_type": "code",
   "execution_count": 92,
   "id": "a2be89e4-88cd-4b76-9c8a-ff6693684f46",
   "metadata": {},
   "outputs": [],
   "source": [
    "# Boolean logic operator of the child nodes\n",
    "node_logic = {\n",
    "    \"L4\": \"OR\",\n",
    "    \"L4.1\": \"OR\",\n",
    "    \"L4.2\": \"OR\",\n",
    "    \"L4.1.1\": \"AND\",\n",
    "    \"L4.1.2\": \"AND\",\n",
    "    \"L4.2.1\": \"AND\",\n",
    "    \"L4.2.2\": \"AND\",\n",
    "    \"L4.2.2.1\": \"OR\",\n",
    "    \"L4.2.2.2\": \"OR\",\n",
    "    # All others not listed will default to AND\n",
    "}\n"
   ]
  },
  {
   "cell_type": "code",
   "execution_count": 93,
   "id": "5782fb59-9bb5-49e3-bdbd-0f9daa97dae4",
   "metadata": {},
   "outputs": [],
   "source": [
    "# Step 5: Initialize logical weights for terminal nodes using Beta(3,5)\n",
    "initial_logical_weights = {\n",
    "    node: np.random.beta(*beta_params[node]) for node in terminal_nodes\n",
    "}\n"
   ]
  },
  {
   "cell_type": "markdown",
   "id": "d46d1de7-59c0-4b58-b19b-a63336a17a38",
   "metadata": {},
   "source": [
    "# Step 6: Compute Logical Weights\n",
    "\n"
   ]
  },
  {
   "cell_type": "code",
   "execution_count": 94,
   "id": "883bd585-7a33-4a74-b638-4c63cbdb859a",
   "metadata": {},
   "outputs": [],
   "source": [
    "def compute_logical_weight(G, initial_weights, beta_params):\n",
    "    logical_weights = {}\n",
    "\n",
    "    def helper(node):\n",
    "        if node in logical_weights:\n",
    "            return logical_weights[node]\n",
    "\n",
    "        if G.in_degree(node) == 0:  # Terminal node\n",
    "            logical_weights[node] = initial_weights.get(node, np.random.beta(*beta_params.get(node, (3, 5))))\n",
    "            return logical_weights[node]\n",
    "\n",
    "        parents = list(G.predecessors(node))\n",
    "        valid_parents = [helper(p) for p in parents if p in G.nodes()]\n",
    "        logic = node_logic.get(node, \"AND\")\n",
    "        if valid_parents:\n",
    "            if logic == \"AND\":\n",
    "                logical_weights[node] = min(valid_parents)\n",
    "            elif logic == \"OR\":\n",
    "                logical_weights[node] = max(valid_parents)\n",
    "        else:\n",
    "            logical_weights[node] = 0\n",
    "\n",
    "        return logical_weights[node]\n",
    "\n",
    "    for node in G.nodes():\n",
    "        helper(node)\n",
    "\n",
    "    return logical_weights\n",
    "\n"
   ]
  },
  {
   "cell_type": "code",
   "execution_count": 95,
   "id": "e1ebd56f-34aa-4c44-8c67-6263a0fb4436",
   "metadata": {},
   "outputs": [],
   "source": [
    "# Step 6: Run the model\n",
    "LW_results = compute_logical_weight(G, initial_logical_weights, beta_params)\n",
    "\n"
   ]
  },
  {
   "cell_type": "code",
   "execution_count": 96,
   "id": "b83612f3-ef4e-4315-85c8-5933b117de67",
   "metadata": {},
   "outputs": [
    {
     "data": {
      "text/plain": [
       "InDegreeView({'L4.1': 2, 'L4': 2, 'L4.2': 2, 'L4.1.1': 2, 'L4.1.2': 2, 'L4.1.1.1': 0, 'L4.1.1.2': 0, 'L4.1.2.1': 0, 'L4.1.2.2': 0, 'L4.2.1': 2, 'L4.2.2': 2, 'L4.2.1.1': 0, 'L4.2.1.2': 0, 'L4.2.2.1': 2, 'L4.2.2.2': 2, 'L4.2.2.1.1': 0, 'L4.2.2.1.2': 0, 'L4.2.2.2.1': 0, 'L4.2.2.2.2': 0})"
      ]
     },
     "execution_count": 96,
     "metadata": {},
     "output_type": "execute_result"
    }
   ],
   "source": [
    "G.in_degree"
   ]
  },
  {
   "cell_type": "code",
   "execution_count": 97,
   "id": "75c4aa7b-ceba-4843-9665-7b43665b66d8",
   "metadata": {
    "scrolled": true
   },
   "outputs": [
    {
     "name": "stdout",
     "output_type": "stream",
     "text": [
      "\n",
      "Logical Weights for Attack Nodes:\n",
      "L4.1.1.1: 0.118\n",
      "L4.1.1.2: 0.385\n",
      "L4.1.1: 0.118\n",
      "L4.1.2.1: 0.510\n",
      "L4.1.2.2: 0.466\n",
      "L4.1.2: 0.466\n",
      "L4.1: 0.466\n",
      "L4.2.1.1: 0.282\n",
      "L4.2.1.2: 0.271\n",
      "L4.2.1: 0.271\n",
      "L4.2.2.1.1: 0.112\n",
      "L4.2.2.1.2: 0.268\n",
      "L4.2.2.1: 0.268\n",
      "L4.2.2.2.1: 0.460\n",
      "L4.2.2.2.2: 0.246\n",
      "L4.2.2.2: 0.460\n",
      "L4.2.2: 0.268\n",
      "L4.2: 0.271\n",
      "L4: 0.466\n"
     ]
    },
    {
     "data": {
      "image/png": "[encoded data removed]",
      "text/plain": [
       "<Figure size 1200x600 with 1 Axes>"
      ]
     },
     "metadata": {},
     "output_type": "display_data"
    }
   ],
   "source": [
    "# Step 7: Print results\n",
    "print(\"\\nLogical Weights for Attack Nodes:\")\n",
    "for node, lw in LW_results.items():\n",
    "    print(f\"{node}: {lw:.3f}\")\n",
    "\n",
    "# Step 8: Visualize results\n",
    "plt.figure(figsize=(12, 6))\n",
    "plt.bar(LW_results.keys(), LW_results.values(), color=\"skyblue\")\n",
    "plt.xticks(rotation=90)\n",
    "plt.ylabel(\"Logical Weight (LW)\")\n",
    "plt.title(\"Logical Weight Propagation in CPES-SMR L4 Attack Graph\")\n",
    "plt.tight_layout()\n",
    "plt.show()"
   ]
  },
  {
   "cell_type": "markdown",
   "id": "3e56c42f-2696-4801-b574-02cbf199b03f",
   "metadata": {},
   "source": [
    "## Imapct score computation "
   ]
  },
  {
   "cell_type": "code",
   "execution_count": 98,
   "id": "38b424e6-210b-4830-9e2b-7b53efe62d53",
   "metadata": {},
   "outputs": [],
   "source": [
    "# Step 9: Variable Selection Method (Impact Score)\n",
    "def compute_impact_scores_fixed_leaves(G, original_LW, node_logic):\n",
    "    baseline = original_LW.get(\"L4\", 0)\n",
    "    impact_scores = {}\n",
    "\n",
    "    terminal_nodes = [n for n in G.nodes() if G.in_degree(n) == 0]\n",
    "\n",
    "    for node in G.nodes():\n",
    "        if node == \"L4\":\n",
    "            continue\n",
    "\n",
    "        G_temp = G.copy()\n",
    "        if node in G_temp:\n",
    "            G_temp.remove_node(node)\n",
    "\n",
    "        # Reuse terminal weights from LW_results (fixed)\n",
    "        temp_weights = {\n",
    "            n: original_LW[n] for n in terminal_nodes if n != node and n in G_temp\n",
    "        }\n",
    "\n",
    "        # Re-propagate non-terminal nodes using AND/OR logic\n",
    "        def propagate(G, weights):\n",
    "            for n in nx.topological_sort(G):\n",
    "                if n not in weights:\n",
    "                    parents = list(G.predecessors(n))\n",
    "                    valid_parents = [weights[p] for p in parents if p in weights]\n",
    "                    logic = node_logic.get(n, \"AND\")\n",
    "                    if valid_parents:\n",
    "                        if logic == \"AND\":\n",
    "                            weights[n] = min(valid_parents)\n",
    "                        elif logic == \"OR\":\n",
    "                            weights[n] = max(valid_parents)\n",
    "                    else:\n",
    "                        weights[n] = 0\n",
    "            return weights\n",
    "\n",
    "        temp_weights = propagate(G_temp, temp_weights)\n",
    "        new_score = temp_weights.get(\"L4\", 0)\n",
    "        impact_scores[node] = baseline - new_score\n",
    "\n",
    "    return impact_scores"
   ]
  },
  {
   "cell_type": "code",
   "execution_count": 99,
   "id": "beac9a6d-c4be-4da3-9098-b842e1f9ec7d",
   "metadata": {},
   "outputs": [
    {
     "name": "stdout",
     "output_type": "stream",
     "text": [
      "\n",
      "Top Critical Nodes (Fixed Leaf Weights):\n",
      "L4.1: 0.195\n",
      "L4.1.2: 0.195\n",
      "L4.2: 0.000\n",
      "L4.1.1: 0.000\n",
      "L4.1.1.1: 0.000\n",
      "L4.1.1.2: 0.000\n",
      "L4.1.2.1: 0.000\n",
      "L4.2.1: 0.000\n",
      "L4.2.2: 0.000\n",
      "L4.2.1.1: 0.000\n"
     ]
    }
   ],
   "source": [
    "impact_scores = compute_impact_scores_fixed_leaves(G, LW_results, node_logic)\n",
    "sorted_impact = sorted(impact_scores.items(), key=lambda x: -x[1])\n",
    "\n",
    "print(\"\\nTop Critical Nodes (Fixed Leaf Weights):\")\n",
    "for node, score in sorted_impact[:10]:\n",
    "    print(f\"{node}: {score:.3f}\")\n",
    "\n"
   ]
  },
  {
   "cell_type": "markdown",
   "id": "eb57f1d1-a21b-4a72-af09-fb5aa7213092",
   "metadata": {},
   "source": [
    "#Uniform logical weight of attack surface \n",
    "We want to now set all the terminal leaf attack nodes to the same logical weight to see the impact score changes \n"
   ]
  },
  {
   "cell_type": "code",
   "execution_count": 100,
   "id": "eba17fdb-79a6-4f2d-90da-490b123b47fb",
   "metadata": {},
   "outputs": [],
   "source": [
    "initial_logical_weights = {node: 0.5 for node in terminal_nodes}\n"
   ]
  },
  {
   "cell_type": "code",
   "execution_count": 101,
   "id": "0a7fb590-295d-493d-85e5-5658c7dffe66",
   "metadata": {},
   "outputs": [],
   "source": [
    "LW_results = compute_logical_weight(G, initial_logical_weights, beta_params)"
   ]
  },
  {
   "cell_type": "code",
   "execution_count": 102,
   "id": "b58c9bed",
   "metadata": {},
   "outputs": [
    {
     "name": "stdout",
     "output_type": "stream",
     "text": [
      "\n",
      "Top Critical Nodes (Fixed Leaf Weights):\n",
      "L4.2: 0.232\n",
      "L4.2.2: 0.131\n",
      "L4.2.2.2.2: 0.045\n",
      "L4.1: 0.000\n",
      "L4.1.1: 0.000\n",
      "L4.1.2: 0.000\n",
      "L4.1.1.2: 0.000\n",
      "L4.1.2.1: 0.000\n",
      "L4.1.2.2: 0.000\n",
      "L4.2.1: 0.000\n"
     ]
    }
   ],
   "source": [
    "impact_scores = compute_impact_scores_fixed_leaves(G, LW_results, node_logic)\n",
    "sorted_impact = sorted(impact_scores.items(), key=lambda x: -x[1])\n",
    "\n",
    "print(\"\\nTop Critical Nodes (Fixed Leaf Weights):\")\n",
    "for node, score in sorted_impact[:10]:\n",
    "    print(f\"{node}: {score:.3f}\")\n",
    "\n"
   ]
  },
  {
   "cell_type": "code",
   "execution_count": null,
   "id": "1fb1e6ac-6982-4cf7-b8ea-3929e2d51a5a",
   "metadata": {},
   "outputs": [],
   "source": []
  },
  {
   "cell_type": "code",
   "execution_count": null,
   "id": "6e24b4f8-e1b2-4003-973f-4917a02fd8fa",
   "metadata": {},
   "outputs": [],
   "source": []
  }
 ],
 "metadata": {
  "kernelspec": {
   "display_name": "Python 3 (ipykernel)",
   "language": "python",
   "name": "python3"
  },
  "language_info": {
   "codemirror_mode": {
    "name": "ipython",
    "version": 3
   },
   "file_extension": ".py",
   "mimetype": "text/x-python",
   "name": "python",
   "nbconvert_exporter": "python",
   "pygments_lexer": "ipython3",
   "version": "3.9.6"
  }
 },
 "nbformat": 4,
 "nbformat_minor": 5
}
